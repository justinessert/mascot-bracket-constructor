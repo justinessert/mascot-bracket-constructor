{
 "cells": [
  {
   "cell_type": "code",
   "execution_count": 1,
   "id": "61c21941",
   "metadata": {
    "ExecuteTime": {
     "end_time": "2022-02-26T17:37:18.215541Z",
     "start_time": "2022-02-26T17:37:17.633103Z"
    }
   },
   "outputs": [],
   "source": [
    "%load_ext autoreload\n",
    "%autoreload 2\n",
    "\n",
    "import pandas as pd\n",
    "import sys\n",
    "\n",
    "sys.path.insert(0, \".\")\n",
    "\n",
    "from src.file_util import load_data, save_data, safe_load_yaml"
   ]
  },
  {
   "cell_type": "code",
   "execution_count": 2,
   "id": "120efbe2",
   "metadata": {
    "ExecuteTime": {
     "end_time": "2022-02-26T17:37:18.251970Z",
     "start_time": "2022-02-26T17:37:18.219150Z"
    }
   },
   "outputs": [],
   "source": [
    "west = [\n",
    "    \"gonzaga\",\n",
    "    \"duke\",\n",
    "    \"texas_tech\",\n",
    "    \"ohio_state\", # 4\n",
    "    \"uconn\",\n",
    "    \"usc\",\n",
    "    \"michigan_state\",\n",
    "    \"colorado_state\", # 8\n",
    "    \"miami\",\n",
    "    \"creighton\",\n",
    "    \"davidson\",\n",
    "    \"iona\", # 12\n",
    "    \"toledo\",\n",
    "    \"texas_state\",\n",
    "    \"yale\",\n",
    "    [\"texas_southern\", \"new_orleans\"] # 16\n",
    "]\n",
    "east = [\n",
    "    \"auburn\",\n",
    "    \"purdue\",\n",
    "    \"villanova\",\n",
    "    \"ucla\", # 4\n",
    "    \"houston\",\n",
    "    \"lsu\",\n",
    "    \"iowa_state\",\n",
    "    \"xavier\", # 8\n",
    "    \"notre_dame\",\n",
    "    \"wake_forest\",\n",
    "    [\"loyola_chicago\", \"memphis\"],\n",
    "    [\"san_francisco\", \"indiana\"], # 12\n",
    "    \"vermont\",\n",
    "    \"wagner\",\n",
    "    \"colgate\",\n",
    "    [\"longwood\", \"norfolk_state\"], # 16\n",
    "]\n",
    "\n",
    "south = [\n",
    "    \"arizona\",\n",
    "    \"baylor\",\n",
    "    \"tennesee\",\n",
    "    \"illinois\", # 4\n",
    "    \"texas\",\n",
    "    \"iowa\",\n",
    "    \"boise_state\",\n",
    "    \"seton_hall\", # 8\n",
    "    \"wyoming\",\n",
    "    \"rutgers\",\n",
    "    \"north_carolina\",\n",
    "    \"south_dakota_state\", # 12\n",
    "    \"chattanooga\",\n",
    "    \"northern_iowa\",\n",
    "    \"long_beach_state\",\n",
    "    \"unc_wilmington\", # 16\n",
    "]\n",
    "\n",
    "midwest = [\n",
    "    \"kansas\",\n",
    "    \"kentucky\",\n",
    "    \"wisconsin\",\n",
    "    \"providence\", # 4\n",
    "    \"alabama\",\n",
    "    \"arkansas\",\n",
    "    \"marquette\",\n",
    "    \"saint_marys\", # 8\n",
    "    \"murray_state\",\n",
    "    \"michigan\",\n",
    "    \"tcu\",\n",
    "    \"north_texas\", # 12\n",
    "    \"new_mexico_state\",\n",
    "    \"montana_state\",\n",
    "    \"jacksonville_state\",\n",
    "    \"cleveland_state\", # 16\n",
    "]"
   ]
  },
  {
   "cell_type": "code",
   "execution_count": 3,
   "id": "11ee3e4a",
   "metadata": {
    "ExecuteTime": {
     "end_time": "2022-02-26T17:37:18.294367Z",
     "start_time": "2022-02-26T17:37:18.255030Z"
    }
   },
   "outputs": [],
   "source": [
    "regions = [\"west\", \"east\", \"south\", \"midwest\"]\n",
    "regions_teams = [west, east, south, midwest]\n",
    "\n",
    "for region, teams in zip(regions, regions_teams):\n",
    "    df = pd.DataFrame({\n",
    "        'team_name': teams,\n",
    "        'seed': range(1, 17),\n",
    "        'effective_seed': range(1, 17),\n",
    "        'region': region,\n",
    "        'round': 1,\n",
    "    })\n",
    "    df = df.set_index(\"effective_seed\")\n",
    "\n",
    "    save_data(df, region, 1)"
   ]
  }
 ],
 "metadata": {
  "kernelspec": {
   "display_name": "Python 3 (ipykernel)",
   "language": "python",
   "name": "python3"
  },
  "language_info": {
   "codemirror_mode": {
    "name": "ipython",
    "version": 3
   },
   "file_extension": ".py",
   "mimetype": "text/x-python",
   "name": "python",
   "nbconvert_exporter": "python",
   "pygments_lexer": "ipython3",
   "version": "3.8.12"
  },
  "toc": {
   "colors": {
    "hover_highlight": "#DAA520",
    "running_highlight": "#FF0000",
    "selected_highlight": "#FFD700"
   },
   "moveMenuLeft": true,
   "nav_menu": {
    "height": "12px",
    "width": "252px"
   },
   "navigate_menu": true,
   "number_sections": true,
   "sideBar": true,
   "threshold": 4,
   "toc_cell": false,
   "toc_section_display": "block",
   "toc_window_display": false,
   "widenNotebook": false
  }
 },
 "nbformat": 4,
 "nbformat_minor": 5
}
