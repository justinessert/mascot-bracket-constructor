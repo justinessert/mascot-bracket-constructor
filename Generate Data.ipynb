{
 "cells": [
  {
   "cell_type": "code",
   "execution_count": 1,
   "id": "20496e88",
   "metadata": {
    "ExecuteTime": {
     "end_time": "2023-03-12T20:59:04.264437Z",
     "start_time": "2023-03-12T20:59:03.505598Z"
    }
   },
   "outputs": [],
   "source": [
    "%load_ext autoreload\n",
    "%autoreload 2\n",
    "\n",
    "import pandas as pd\n",
    "import sys\n",
    "\n",
    "sys.path.insert(0, \".\")\n",
    "\n",
    "from src.file_util import load_data, save_data, safe_load_yaml"
   ]
  },
  {
   "cell_type": "code",
   "execution_count": 2,
   "id": "fecb5fa5",
   "metadata": {
    "ExecuteTime": {
     "end_time": "2023-03-12T20:59:04.306470Z",
     "start_time": "2023-03-12T20:59:04.268534Z"
    }
   },
   "outputs": [],
   "source": [
    "west = [\n",
    "    \"houston\",\n",
    "    \"ucla\",\n",
    "    \"kansas_state\",\n",
    "    \"duke\", # 4\n",
    "    \"texas_a&m\",\n",
    "    \"creighton\",\n",
    "    \"kentucky\",\n",
    "    \"iowa\", # 8\n",
    "    \"usc\",\n",
    "    \"boise_state\",\n",
    "    [\"mississippi_state\", \"pittsburgh\"],\n",
    "    \"drake\", # 12\n",
    "    \"louisiana\",\n",
    "    \"furman\",\n",
    "    \"montana_state\",\n",
    "    \"texas_a&m_cc\" # 16\n",
    "]\n",
    "east = [\n",
    "    \"purdue\",\n",
    "    \"marquette\",\n",
    "    \"baylor\",\n",
    "    \"tennessee\", # 4\n",
    "    \"iowa_state\",\n",
    "    \"saint_marys\",\n",
    "    \"northwestern\",\n",
    "    \"memphis\", # 8\n",
    "    \"west_virginia\",\n",
    "    \"auburn\",\n",
    "    [\"nc_state\", \"arizona_state\"],\n",
    "    \"charleston\", # 12\n",
    "    \"kent_state\",\n",
    "    \"kennesaw_state\",\n",
    "    \"colgate\",\n",
    "    [\"howard\", \"southeast_missouri_state\"], # 16\n",
    "]\n",
    "\n",
    "south = [\n",
    "    \"alabama\",\n",
    "    \"texas\",\n",
    "    \"uconn\",\n",
    "    \"virginia\", # 4\n",
    "    \"tcu\",\n",
    "    \"miami\",\n",
    "    \"missouri\",\n",
    "    \"florida_atlantic\", # 8\n",
    "    \"maryland\",\n",
    "    \"penn_state\",\n",
    "    \"utah_state\",\n",
    "    \"vcu\", # 12\n",
    "    \"yale\",\n",
    "    \"vermont\",\n",
    "    \"unc_asheville\",\n",
    "    [\"fdu\", \"texas_southern\"], # 16\n",
    "]\n",
    "\n",
    "midwest = [\n",
    "    \"kansas\",\n",
    "    \"arizona\",\n",
    "    \"gonzaga\",\n",
    "    \"xavier\", # 4\n",
    "    \"indiana\",\n",
    "    \"san_diego_state\",\n",
    "    \"michigan_state\",\n",
    "    \"arkansas\", # 8\n",
    "    \"illinois\",\n",
    "    \"providence\",\n",
    "    \"rutgers\",\n",
    "    \"oral_roberts\", # 12\n",
    "    \"iona\",\n",
    "    \"grand_canyon\",\n",
    "    \"ucsb\",\n",
    "    \"northern_kentucky\", # 16\n",
    "]"
   ]
  },
  {
   "cell_type": "code",
   "execution_count": 3,
   "id": "0256f8f3",
   "metadata": {
    "ExecuteTime": {
     "end_time": "2023-03-12T20:59:04.363504Z",
     "start_time": "2023-03-12T20:59:04.315492Z"
    }
   },
   "outputs": [],
   "source": [
    "regions = [\"west\", \"east\", \"south\", \"midwest\"]\n",
    "regions_teams = [west, east, south, midwest]\n",
    "\n",
    "for region, teams in zip(regions, regions_teams):\n",
    "    df = pd.DataFrame({\n",
    "        'team_name': teams,\n",
    "        'seed': range(1, 17),\n",
    "        'effective_seed': range(1, 17),\n",
    "        'region': region,\n",
    "        'round': 1,\n",
    "    })\n",
    "    df = df.set_index(\"effective_seed\")\n",
    "\n",
    "    save_data(df, region, 1)"
   ]
  },
  {
   "cell_type": "code",
   "execution_count": null,
   "id": "e6b9ba45",
   "metadata": {},
   "outputs": [],
   "source": []
  }
 ],
 "metadata": {
  "kernelspec": {
   "display_name": "Python 3 (ipykernel)",
   "language": "python",
   "name": "python3"
  },
  "language_info": {
   "codemirror_mode": {
    "name": "ipython",
    "version": 3
   },
   "file_extension": ".py",
   "mimetype": "text/x-python",
   "name": "python",
   "nbconvert_exporter": "python",
   "pygments_lexer": "ipython3",
   "version": "3.8.13"
  },
  "toc": {
   "colors": {
    "hover_highlight": "#DAA520",
    "running_highlight": "#FF0000",
    "selected_highlight": "#FFD700"
   },
   "moveMenuLeft": true,
   "nav_menu": {
    "height": "12px",
    "width": "252px"
   },
   "navigate_menu": true,
   "number_sections": true,
   "sideBar": true,
   "threshold": 4,
   "toc_cell": false,
   "toc_section_display": "block",
   "toc_window_display": false,
   "widenNotebook": false
  }
 },
 "nbformat": 4,
 "nbformat_minor": 5
}
