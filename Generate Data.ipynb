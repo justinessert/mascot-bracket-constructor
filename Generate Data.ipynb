{
 "cells": [
  {
   "cell_type": "code",
   "execution_count": 1,
   "id": "20496e88",
   "metadata": {
    "ExecuteTime": {
     "end_time": "2022-02-26T17:48:27.711668Z",
     "start_time": "2022-02-26T17:48:27.105839Z"
    }
   },
   "outputs": [],
   "source": [
    "%load_ext autoreload\n",
    "%autoreload 2\n",
    "\n",
    "import pandas as pd\n",
    "import sys\n",
    "\n",
    "sys.path.insert(0, \".\")\n",
    "\n",
    "from src.file_util import load_data, save_data, safe_load_yaml"
   ]
  },
  {
   "cell_type": "code",
   "execution_count": 6,
   "id": "fecb5fa5",
   "metadata": {
    "ExecuteTime": {
     "end_time": "2022-03-14T01:31:11.743635Z",
     "start_time": "2022-03-14T01:31:11.694932Z"
    }
   },
   "outputs": [],
   "source": [
    "west = [\n",
    "    \"gonzaga\",\n",
    "    \"duke\",\n",
    "    \"texas_tech\",\n",
    "    \"arkansas\", # 4\n",
    "    \"uconn\",\n",
    "    \"alabama\",\n",
    "    \"michigan_state\",\n",
    "    \"boise_state\", # 8\n",
    "    \"memphis\",\n",
    "    \"davidson\",\n",
    "    [\"rutgers\", \"notre_dame\"],\n",
    "    \"new_mexico_state\", # 12\n",
    "    \"vermont\",\n",
    "    \"montana_state\",\n",
    "    \"csu_fullerton\",\n",
    "    \"georgia_state\" # 16\n",
    "]\n",
    "east = [\n",
    "    \"baylor\",\n",
    "    \"kentucky\",\n",
    "    \"purdue\",\n",
    "    \"ucla\", # 4\n",
    "    \"saint_marys\",\n",
    "    \"texas\",\n",
    "    \"murray_state\",\n",
    "    \"north_carolina\", # 8\n",
    "    \"marquette\",\n",
    "    \"san_francisco\",\n",
    "    \"virginia_tech\",\n",
    "    [\"wyoming\", \"indiana\"], # 12\n",
    "    \"akron\",\n",
    "    \"yale\",\n",
    "    \"saint_peters\",\n",
    "    \"norfolk_state\", # 16\n",
    "]\n",
    "\n",
    "south = [\n",
    "    \"arizona\",\n",
    "    \"villanova\",\n",
    "    \"tennessee\",\n",
    "    \"illinois\", # 4\n",
    "    \"houston\",\n",
    "    \"colorado_state\",\n",
    "    \"ohio_state\",\n",
    "    \"seton_hall\", # 8\n",
    "    \"tcu\",\n",
    "    \"loyola_chicago\",\n",
    "    \"michigan\",\n",
    "    \"uab\", # 12\n",
    "    \"chattanooga\",\n",
    "    \"longwood\",\n",
    "    \"delaware\",\n",
    "    [\"wright_state\", \"bryant\"], # 16\n",
    "]\n",
    "\n",
    "midwest = [\n",
    "    \"kansas\",\n",
    "    \"auburn\",\n",
    "    \"wisconsin\",\n",
    "    \"providence\", # 4\n",
    "    \"iowa\",\n",
    "    \"lsu\",\n",
    "    \"usc\",\n",
    "    \"san_diego_state\", # 8\n",
    "    \"creighton\",\n",
    "    \"miami\",\n",
    "    \"iowa_state\",\n",
    "    \"richmond\", # 12\n",
    "    \"south_dakota_state\",\n",
    "    \"colgate\",\n",
    "    \"jacksonville_state\",\n",
    "    [\"texas_southern\", \"texas_a&m_cc\"], # 16\n",
    "]"
   ]
  },
  {
   "cell_type": "code",
   "execution_count": 7,
   "id": "0256f8f3",
   "metadata": {
    "ExecuteTime": {
     "end_time": "2022-03-14T01:31:12.056432Z",
     "start_time": "2022-03-14T01:31:11.993913Z"
    }
   },
   "outputs": [],
   "source": [
    "regions = [\"west\", \"east\", \"south\", \"midwest\"]\n",
    "regions_teams = [west, east, south, midwest]\n",
    "\n",
    "for region, teams in zip(regions, regions_teams):\n",
    "    df = pd.DataFrame({\n",
    "        'team_name': teams,\n",
    "        'seed': range(1, 17),\n",
    "        'effective_seed': range(1, 17),\n",
    "        'region': region,\n",
    "        'round': 1,\n",
    "    })\n",
    "    df = df.set_index(\"effective_seed\")\n",
    "\n",
    "    save_data(df, region, 1)"
   ]
  },
  {
   "cell_type": "code",
   "execution_count": null,
   "id": "e6b9ba45",
   "metadata": {},
   "outputs": [],
   "source": []
  }
 ],
 "metadata": {
  "kernelspec": {
   "display_name": "Python 3 (ipykernel)",
   "language": "python",
   "name": "python3"
  },
  "language_info": {
   "codemirror_mode": {
    "name": "ipython",
    "version": 3
   },
   "file_extension": ".py",
   "mimetype": "text/x-python",
   "name": "python",
   "nbconvert_exporter": "python",
   "pygments_lexer": "ipython3",
   "version": "3.8.12"
  },
  "toc": {
   "colors": {
    "hover_highlight": "#DAA520",
    "running_highlight": "#FF0000",
    "selected_highlight": "#FFD700"
   },
   "moveMenuLeft": true,
   "nav_menu": {
    "height": "12px",
    "width": "252px"
   },
   "navigate_menu": true,
   "number_sections": true,
   "sideBar": true,
   "threshold": 4,
   "toc_cell": false,
   "toc_section_display": "block",
   "toc_window_display": false,
   "widenNotebook": false
  }
 },
 "nbformat": 4,
 "nbformat_minor": 5
}
