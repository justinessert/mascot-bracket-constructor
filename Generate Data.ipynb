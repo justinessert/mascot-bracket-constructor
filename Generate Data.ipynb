{
 "cells": [
  {
   "cell_type": "code",
   "execution_count": 1,
   "id": "20496e88",
   "metadata": {
    "ExecuteTime": {
     "end_time": "2023-03-12T23:53:03.943132Z",
     "start_time": "2023-03-12T23:53:03.360440Z"
    }
   },
   "outputs": [],
   "source": [
    "%load_ext autoreload\n",
    "%autoreload 2\n",
    "\n",
    "import pandas as pd\n",
    "import sys\n",
    "\n",
    "sys.path.insert(0, \".\")\n",
    "\n",
    "from src.file_util import load_data, save_data, safe_load_yaml"
   ]
  },
  {
   "cell_type": "code",
   "execution_count": 2,
   "id": "fecb5fa5",
   "metadata": {
    "ExecuteTime": {
     "end_time": "2023-03-12T23:53:04.010408Z",
     "start_time": "2023-03-12T23:53:03.948044Z"
    }
   },
   "outputs": [],
   "source": [
    "west = [\n",
    "    \"kansas\",\n",
    "    \"ucla\",\n",
    "    \"gonzaga\",\n",
    "    \"uconn\", # 4\n",
    "    \"saint_marys\",\n",
    "    \"tcu\",\n",
    "    \"northwestern\",\n",
    "    \"arkansas\", # 8\n",
    "    \"illinois\",\n",
    "    \"boise_state\",\n",
    "    [\"arizona_state\", \"nevada\"],\n",
    "    \"vcu\", # 12\n",
    "    \"iona\",\n",
    "    \"grand_canyon\",\n",
    "    \"unc_asheville\",\n",
    "    \"howard\" # 16\n",
    "]\n",
    "east = [\n",
    "    \"purdue\",\n",
    "    \"marquette\",\n",
    "    \"kansas_state\",\n",
    "    \"tennessee\", # 4\n",
    "    \"duke\",\n",
    "    \"kentucky\",\n",
    "    \"michigan_state\",\n",
    "    \"memphis\", # 8\n",
    "    \"florida_atlantic\",\n",
    "    \"usc\",\n",
    "    \"providence\",\n",
    "    \"oral_roberts\", # 12\n",
    "    \"louisiana\",\n",
    "    \"montana_state\",\n",
    "    \"vermont\",\n",
    "    [\"texas_southern\", \"fdu\"], # 16\n",
    "]\n",
    "\n",
    "south = [\n",
    "    \"alabama\",\n",
    "    \"arizona\",\n",
    "    \"baylor\",\n",
    "    \"virginia\", # 4\n",
    "    \"san_diego_state\",\n",
    "    \"creighton\",\n",
    "    \"missouri\",\n",
    "    \"maryland\", # 8\n",
    "    \"west_virginia\",\n",
    "    \"utah_state\",\n",
    "    \"nc_state\",\n",
    "    \"charleston\", # 12\n",
    "    \"furman\",\n",
    "    \"ucsb\",\n",
    "    \"princeton\",\n",
    "    [\"texas_a&m_cc\", \"southeast_missouri_state\"], # 16\n",
    "]\n",
    "\n",
    "midwest = [\n",
    "    \"houston\",\n",
    "    \"texas\",\n",
    "    \"xavier\",\n",
    "    \"indiana\", # 4\n",
    "    \"miami\",\n",
    "    \"iowa_state\",\n",
    "    \"texas_a&m\",\n",
    "    \"iowa\", # 8\n",
    "    \"auburn\",\n",
    "    \"penn_state\",\n",
    "    [\"mississippi_state\", \"pittsburgh\"],\n",
    "    \"drake\", # 12\n",
    "    \"kent_state\",\n",
    "    \"kennesaw_state\",\n",
    "    \"colgate\",\n",
    "    \"northern_kentucky\", # 16\n",
    "]"
   ]
  },
  {
   "cell_type": "code",
   "execution_count": 3,
   "id": "0256f8f3",
   "metadata": {
    "ExecuteTime": {
     "end_time": "2023-03-12T23:53:04.079466Z",
     "start_time": "2023-03-12T23:53:04.014290Z"
    }
   },
   "outputs": [],
   "source": [
    "regions = [\"west\", \"east\", \"south\", \"midwest\"]\n",
    "regions_teams = [west, east, south, midwest]\n",
    "\n",
    "for region, teams in zip(regions, regions_teams):\n",
    "    df = pd.DataFrame({\n",
    "        'team_name': teams,\n",
    "        'seed': range(1, 17),\n",
    "        'effective_seed': range(1, 17),\n",
    "        'region': region,\n",
    "        'round': 1,\n",
    "    })\n",
    "    df = df.set_index(\"effective_seed\")\n",
    "\n",
    "    save_data(df, region, 1)"
   ]
  },
  {
   "cell_type": "code",
   "execution_count": null,
   "id": "e6b9ba45",
   "metadata": {},
   "outputs": [],
   "source": []
  }
 ],
 "metadata": {
  "kernelspec": {
   "display_name": "Python 3 (ipykernel)",
   "language": "python",
   "name": "python3"
  },
  "language_info": {
   "codemirror_mode": {
    "name": "ipython",
    "version": 3
   },
   "file_extension": ".py",
   "mimetype": "text/x-python",
   "name": "python",
   "nbconvert_exporter": "python",
   "pygments_lexer": "ipython3",
   "version": "3.8.13"
  },
  "toc": {
   "colors": {
    "hover_highlight": "#DAA520",
    "running_highlight": "#FF0000",
    "selected_highlight": "#FFD700"
   },
   "moveMenuLeft": true,
   "nav_menu": {
    "height": "12px",
    "width": "252px"
   },
   "navigate_menu": true,
   "number_sections": true,
   "sideBar": true,
   "threshold": 4,
   "toc_cell": false,
   "toc_section_display": "block",
   "toc_window_display": false,
   "widenNotebook": false
  }
 },
 "nbformat": 4,
 "nbformat_minor": 5
}
