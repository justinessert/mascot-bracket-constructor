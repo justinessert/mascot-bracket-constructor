{
 "cells": [
  {
   "cell_type": "code",
   "execution_count": 5,
   "metadata": {
    "ExecuteTime": {
     "end_time": "2023-03-14T02:38:09.591198Z",
     "start_time": "2023-03-14T02:38:09.551660Z"
    }
   },
   "outputs": [
    {
     "name": "stdout",
     "output_type": "stream",
     "text": [
      "The autoreload extension is already loaded. To reload it, use:\n",
      "  %reload_ext autoreload\n"
     ]
    }
   ],
   "source": [
    "%load_ext autoreload\n",
    "%autoreload 2\n",
    "\n",
    "import sys\n",
    "\n",
    "sys.path.insert(0, \".\")\n",
    "\n",
    "import asyncio\n",
    "from src.main import run_round\n",
    "from src.file_util import load_data, save_data, safe_load_yaml"
   ]
  },
  {
   "cell_type": "markdown",
   "metadata": {},
   "source": [
    "Make sure to run `pip install -r requirements.txt` first (sorry if I missed any requirements there)"
   ]
  },
  {
   "cell_type": "code",
   "execution_count": 7,
   "metadata": {
    "ExecuteTime": {
     "end_time": "2023-03-14T02:39:10.782918Z",
     "start_time": "2023-03-14T02:39:10.755497Z"
    }
   },
   "outputs": [
    {
     "name": "stdout",
     "output_type": "stream",
     "text": [
      "Done with region: None, round: 6\n"
     ]
    }
   ],
   "source": [
    "# enter round 1 through 6\n",
    "asyncio.create_task(run_round(6))"
   ]
  },
  {
   "cell_type": "markdown",
   "metadata": {},
   "source": [
    "Either enter your picks at the same time as you see them here or load in a round's data through the below code: "
   ]
  },
  {
   "cell_type": "code",
   "execution_count": 9,
   "metadata": {
    "ExecuteTime": {
     "end_time": "2023-03-14T02:39:35.460836Z",
     "start_time": "2023-03-14T02:39:35.412922Z"
    },
    "code_folding": []
   },
   "outputs": [
    {
     "data": {
      "text/html": [
       "<div>\n",
       "<style scoped>\n",
       "    .dataframe tbody tr th:only-of-type {\n",
       "        vertical-align: middle;\n",
       "    }\n",
       "\n",
       "    .dataframe tbody tr th {\n",
       "        vertical-align: top;\n",
       "    }\n",
       "\n",
       "    .dataframe thead th {\n",
       "        text-align: right;\n",
       "    }\n",
       "</style>\n",
       "<table border=\"1\" class=\"dataframe\">\n",
       "  <thead>\n",
       "    <tr style=\"text-align: right;\">\n",
       "      <th></th>\n",
       "      <th>team_name</th>\n",
       "      <th>seed</th>\n",
       "      <th>region</th>\n",
       "      <th>round</th>\n",
       "    </tr>\n",
       "    <tr>\n",
       "      <th>effective_seed</th>\n",
       "      <th></th>\n",
       "      <th></th>\n",
       "      <th></th>\n",
       "      <th></th>\n",
       "    </tr>\n",
       "  </thead>\n",
       "  <tbody>\n",
       "    <tr>\n",
       "      <th>1</th>\n",
       "      <td>purdue</td>\n",
       "      <td>1</td>\n",
       "      <td>east</td>\n",
       "      <td>1</td>\n",
       "    </tr>\n",
       "    <tr>\n",
       "      <th>2</th>\n",
       "      <td>marquette</td>\n",
       "      <td>2</td>\n",
       "      <td>east</td>\n",
       "      <td>1</td>\n",
       "    </tr>\n",
       "    <tr>\n",
       "      <th>3</th>\n",
       "      <td>kansas_state</td>\n",
       "      <td>3</td>\n",
       "      <td>east</td>\n",
       "      <td>1</td>\n",
       "    </tr>\n",
       "    <tr>\n",
       "      <th>4</th>\n",
       "      <td>tennessee</td>\n",
       "      <td>4</td>\n",
       "      <td>east</td>\n",
       "      <td>1</td>\n",
       "    </tr>\n",
       "    <tr>\n",
       "      <th>5</th>\n",
       "      <td>duke</td>\n",
       "      <td>5</td>\n",
       "      <td>east</td>\n",
       "      <td>1</td>\n",
       "    </tr>\n",
       "    <tr>\n",
       "      <th>6</th>\n",
       "      <td>kentucky</td>\n",
       "      <td>6</td>\n",
       "      <td>east</td>\n",
       "      <td>1</td>\n",
       "    </tr>\n",
       "    <tr>\n",
       "      <th>7</th>\n",
       "      <td>michigan_state</td>\n",
       "      <td>7</td>\n",
       "      <td>east</td>\n",
       "      <td>1</td>\n",
       "    </tr>\n",
       "    <tr>\n",
       "      <th>8</th>\n",
       "      <td>memphis</td>\n",
       "      <td>8</td>\n",
       "      <td>east</td>\n",
       "      <td>1</td>\n",
       "    </tr>\n",
       "    <tr>\n",
       "      <th>9</th>\n",
       "      <td>florida_atlantic</td>\n",
       "      <td>9</td>\n",
       "      <td>east</td>\n",
       "      <td>1</td>\n",
       "    </tr>\n",
       "    <tr>\n",
       "      <th>10</th>\n",
       "      <td>usc</td>\n",
       "      <td>10</td>\n",
       "      <td>east</td>\n",
       "      <td>1</td>\n",
       "    </tr>\n",
       "    <tr>\n",
       "      <th>11</th>\n",
       "      <td>providence</td>\n",
       "      <td>11</td>\n",
       "      <td>east</td>\n",
       "      <td>1</td>\n",
       "    </tr>\n",
       "    <tr>\n",
       "      <th>12</th>\n",
       "      <td>oral_roberts</td>\n",
       "      <td>12</td>\n",
       "      <td>east</td>\n",
       "      <td>1</td>\n",
       "    </tr>\n",
       "    <tr>\n",
       "      <th>13</th>\n",
       "      <td>louisiana</td>\n",
       "      <td>13</td>\n",
       "      <td>east</td>\n",
       "      <td>1</td>\n",
       "    </tr>\n",
       "    <tr>\n",
       "      <th>14</th>\n",
       "      <td>montana_state</td>\n",
       "      <td>14</td>\n",
       "      <td>east</td>\n",
       "      <td>1</td>\n",
       "    </tr>\n",
       "    <tr>\n",
       "      <th>15</th>\n",
       "      <td>vermont</td>\n",
       "      <td>15</td>\n",
       "      <td>east</td>\n",
       "      <td>1</td>\n",
       "    </tr>\n",
       "    <tr>\n",
       "      <th>16</th>\n",
       "      <td>[texas_southern, fdu]</td>\n",
       "      <td>16</td>\n",
       "      <td>east</td>\n",
       "      <td>1</td>\n",
       "    </tr>\n",
       "  </tbody>\n",
       "</table>\n",
       "</div>"
      ],
      "text/plain": [
       "                            team_name  seed region  round\n",
       "effective_seed                                           \n",
       "1                              purdue     1   east      1\n",
       "2                           marquette     2   east      1\n",
       "3                        kansas_state     3   east      1\n",
       "4                           tennessee     4   east      1\n",
       "5                                duke     5   east      1\n",
       "6                            kentucky     6   east      1\n",
       "7                      michigan_state     7   east      1\n",
       "8                             memphis     8   east      1\n",
       "9                    florida_atlantic     9   east      1\n",
       "10                                usc    10   east      1\n",
       "11                         providence    11   east      1\n",
       "12                       oral_roberts    12   east      1\n",
       "13                          louisiana    13   east      1\n",
       "14                      montana_state    14   east      1\n",
       "15                            vermont    15   east      1\n",
       "16              [texas_southern, fdu]    16   east      1"
      ]
     },
     "execution_count": 9,
     "metadata": {},
     "output_type": "execute_result"
    }
   ],
   "source": [
    "df2 = load_data(region=\"east\", rnd=1)\n",
    "\n",
    "df2.head(16)"
   ]
  },
  {
   "cell_type": "code",
   "execution_count": null,
   "metadata": {},
   "outputs": [],
   "source": []
  }
 ],
 "metadata": {
  "kernelspec": {
   "display_name": "Python 3 (ipykernel)",
   "language": "python",
   "name": "python3"
  },
  "language_info": {
   "codemirror_mode": {
    "name": "ipython",
    "version": 3
   },
   "file_extension": ".py",
   "mimetype": "text/x-python",
   "name": "python",
   "nbconvert_exporter": "python",
   "pygments_lexer": "ipython3",
   "version": "3.8.13"
  },
  "toc": {
   "colors": {
    "hover_highlight": "#DAA520",
    "running_highlight": "#FF0000",
    "selected_highlight": "#FFD700"
   },
   "moveMenuLeft": true,
   "nav_menu": {
    "height": "12px",
    "width": "252px"
   },
   "navigate_menu": true,
   "number_sections": true,
   "sideBar": true,
   "threshold": 4,
   "toc_cell": false,
   "toc_section_display": "block",
   "toc_window_display": false,
   "widenNotebook": false
  }
 },
 "nbformat": 4,
 "nbformat_minor": 4
}
