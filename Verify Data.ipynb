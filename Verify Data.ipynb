{
 "cells": [
  {
   "cell_type": "code",
   "execution_count": 1,
   "id": "395aaf04",
   "metadata": {
    "ExecuteTime": {
     "end_time": "2022-03-14T01:44:00.662515Z",
     "start_time": "2022-03-14T01:44:00.251504Z"
    }
   },
   "outputs": [],
   "source": [
    "%load_ext autoreload\n",
    "%autoreload 2\n",
    "\n",
    "import pandas as pd\n",
    "import sys\n",
    "import os\n",
    "\n",
    "sys.path.insert(0, \".\")\n",
    "\n",
    "from src.file_util import load_data, save_data, safe_load_yaml\n",
    "from src.const import NICKNAMES_FILE, IMGS_DIR"
   ]
  },
  {
   "cell_type": "code",
   "execution_count": 2,
   "id": "9c9b277c",
   "metadata": {
    "ExecuteTime": {
     "end_time": "2022-03-14T01:44:00.705111Z",
     "start_time": "2022-03-14T01:44:00.666282Z"
    }
   },
   "outputs": [],
   "source": [
    "regions = [\"west\", \"east\", \"south\", \"midwest\"]\n",
    "\n",
    "nicknames = safe_load_yaml(NICKNAMES_FILE)"
   ]
  },
  {
   "cell_type": "code",
   "execution_count": 3,
   "id": "69187340",
   "metadata": {
    "ExecuteTime": {
     "end_time": "2022-03-14T01:44:00.766612Z",
     "start_time": "2022-03-14T01:44:00.708374Z"
    }
   },
   "outputs": [
    {
     "name": "stdout",
     "output_type": "stream",
     "text": [
      "\n",
      "west\n",
      "\n",
      "gonzaga\n",
      "duke\n",
      "texas_tech\n",
      "arkansas\n",
      "uconn\n",
      "alabama\n",
      "michigan_state\n",
      "boise_state\n",
      "memphis\n",
      "davidson\n",
      "rutgers\n",
      "notre_dame\n",
      "new_mexico_state\n",
      "vermont\n",
      "montana_state\n",
      "csu_fullerton\n",
      "georgia_state\n",
      "\n",
      "east\n",
      "\n",
      "baylor\n",
      "kentucky\n",
      "purdue\n",
      "ucla\n",
      "saint_marys\n",
      "texas\n",
      "murray_state\n",
      "north_carolina\n",
      "marquette\n",
      "san_francisco\n",
      "virginia_tech\n",
      "wyoming\n",
      "indiana\n",
      "akron\n",
      "yale\n",
      "saint_peters\n",
      "norfolk_state\n",
      "\n",
      "south\n",
      "\n",
      "arizona\n",
      "villanova\n",
      "tennessee\n",
      "illinois\n",
      "houston\n",
      "colorado_state\n",
      "ohio_state\n",
      "seton_hall\n",
      "tcu\n",
      "loyola_chicago\n",
      "michigan\n",
      "uab\n",
      "chattanooga\n",
      "longwood\n",
      "delaware\n",
      "wright_state\n",
      "bryant\n",
      "\n",
      "midwest\n",
      "\n",
      "kansas\n",
      "auburn\n",
      "wisconsin\n",
      "providence\n",
      "iowa\n",
      "lsu\n",
      "usc\n",
      "san_diego_state\n",
      "creighton\n",
      "miami\n",
      "iowa_state\n",
      "richmond\n",
      "south_dakota_state\n",
      "colgate\n",
      "jacksonville_state\n",
      "texas_southern\n",
      "texas_a&m_cc\n"
     ]
    }
   ],
   "source": [
    "for region in regions:\n",
    "    print(f\"\\n{region}\\n\")\n",
    "    df = load_data(region, 1)\n",
    "    assert len(df) == 16\n",
    "    \n",
    "    _teams = df[\"team_name\"].values.tolist()\n",
    "    \n",
    "    teams = []\n",
    "    for _team in _teams:\n",
    "        if isinstance(_team, str):\n",
    "            teams.append(_team)\n",
    "        else:\n",
    "            for __team in _team:\n",
    "                teams.append(__team)\n",
    "    \n",
    "    for team in teams:\n",
    "        print(team)\n",
    "        assert team in nicknames\n",
    "        assert os.path.isfile(f\"{IMGS_DIR}/{team}.jpg\")"
   ]
  },
  {
   "cell_type": "code",
   "execution_count": null,
   "id": "ee271501",
   "metadata": {},
   "outputs": [],
   "source": []
  }
 ],
 "metadata": {
  "kernelspec": {
   "display_name": "Python 3 (ipykernel)",
   "language": "python",
   "name": "python3"
  },
  "language_info": {
   "codemirror_mode": {
    "name": "ipython",
    "version": 3
   },
   "file_extension": ".py",
   "mimetype": "text/x-python",
   "name": "python",
   "nbconvert_exporter": "python",
   "pygments_lexer": "ipython3",
   "version": "3.8.12"
  },
  "toc": {
   "colors": {
    "hover_highlight": "#DAA520",
    "running_highlight": "#FF0000",
    "selected_highlight": "#FFD700"
   },
   "moveMenuLeft": true,
   "nav_menu": {
    "height": "12px",
    "width": "252px"
   },
   "navigate_menu": true,
   "number_sections": true,
   "sideBar": true,
   "threshold": 4,
   "toc_cell": false,
   "toc_section_display": "block",
   "toc_window_display": false,
   "widenNotebook": false
  }
 },
 "nbformat": 4,
 "nbformat_minor": 5
}
