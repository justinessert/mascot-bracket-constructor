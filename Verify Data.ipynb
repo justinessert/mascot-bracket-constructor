{
 "cells": [
  {
   "cell_type": "code",
   "execution_count": 1,
   "id": "43980eb4",
   "metadata": {
    "ExecuteTime": {
     "end_time": "2022-02-26T17:48:33.336313Z",
     "start_time": "2022-02-26T17:48:32.914643Z"
    }
   },
   "outputs": [],
   "source": [
    "%load_ext autoreload\n",
    "%autoreload 2\n",
    "\n",
    "import pandas as pd\n",
    "import sys\n",
    "import os\n",
    "\n",
    "sys.path.insert(0, \".\")\n",
    "\n",
    "from src.file_util import load_data, save_data, safe_load_yaml\n",
    "from src.const import NICKNAMES_FILE, IMGS_DIR"
   ]
  },
  {
   "cell_type": "code",
   "execution_count": 2,
   "id": "3a95a39a",
   "metadata": {
    "ExecuteTime": {
     "end_time": "2022-02-26T17:48:33.385680Z",
     "start_time": "2022-02-26T17:48:33.340093Z"
    }
   },
   "outputs": [],
   "source": [
    "regions = [\"west\", \"east\", \"south\", \"midwest\"]\n",
    "\n",
    "nicknames = safe_load_yaml(NICKNAMES_FILE)"
   ]
  },
  {
   "cell_type": "code",
   "execution_count": 4,
   "id": "6d83482e",
   "metadata": {
    "ExecuteTime": {
     "end_time": "2022-02-26T17:48:54.656479Z",
     "start_time": "2022-02-26T17:48:54.572832Z"
    }
   },
   "outputs": [
    {
     "name": "stdout",
     "output_type": "stream",
     "text": [
      "\n",
      "west\n",
      "\n",
      "gonzaga\n",
      "duke\n",
      "texas_tech\n",
      "ohio_state\n",
      "uconn\n",
      "usc\n",
      "michigan_state\n",
      "colorado_state\n",
      "miami\n",
      "creighton\n",
      "davidson\n",
      "iona\n",
      "toledo\n",
      "texas_state\n",
      "yale\n",
      "texas_southern\n",
      "new_orleans\n",
      "\n",
      "east\n",
      "\n",
      "auburn\n",
      "purdue\n",
      "villanova\n",
      "ucla\n",
      "houston\n",
      "lsu\n",
      "iowa_state\n",
      "xavier\n",
      "notre_dame\n",
      "wake_forest\n",
      "loyola_chicago\n",
      "memphis\n",
      "san_francisco\n",
      "indiana\n",
      "vermont\n",
      "wagner\n",
      "colgate\n",
      "longwood\n",
      "norfolk_state\n",
      "\n",
      "south\n",
      "\n",
      "arizona\n",
      "baylor\n",
      "tennessee\n",
      "illinois\n",
      "texas\n",
      "iowa\n",
      "boise_state\n",
      "seton_hall\n",
      "wyoming\n",
      "rutgers\n",
      "north_carolina\n",
      "south_dakota_state\n",
      "chattanooga\n",
      "northern_iowa\n",
      "long_beach_state\n",
      "unc_wilmington\n",
      "\n",
      "midwest\n",
      "\n",
      "kansas\n",
      "kentucky\n",
      "wisconsin\n",
      "providence\n",
      "alabama\n",
      "arkansas\n",
      "marquette\n",
      "saint_marys\n",
      "murray_state\n",
      "michigan\n",
      "tcu\n",
      "north_texas\n",
      "new_mexico_state\n",
      "montana_state\n",
      "jacksonville_state\n",
      "cleveland_state\n"
     ]
    }
   ],
   "source": [
    "for region in regions:\n",
    "    print(f\"\\n{region}\\n\")\n",
    "    df = load_data(region, 1)\n",
    "    assert len(df) == 16\n",
    "    \n",
    "    _teams = df[\"team_name\"].values.tolist()\n",
    "    \n",
    "    teams = []\n",
    "    for _team in _teams:\n",
    "        if isinstance(_team, str):\n",
    "            teams.append(_team)\n",
    "        else:\n",
    "            for __team in _team:\n",
    "                teams.append(__team)\n",
    "    \n",
    "    for team in teams:\n",
    "        print(team)\n",
    "        assert team in nicknames\n",
    "        assert os.path.isfile(f\"{IMGS_DIR}/{team}.jpg\")"
   ]
  },
  {
   "cell_type": "code",
   "execution_count": null,
   "id": "e05562bf",
   "metadata": {},
   "outputs": [],
   "source": []
  }
 ],
 "metadata": {
  "kernelspec": {
   "display_name": "Python 3 (ipykernel)",
   "language": "python",
   "name": "python3"
  },
  "language_info": {
   "codemirror_mode": {
    "name": "ipython",
    "version": 3
   },
   "file_extension": ".py",
   "mimetype": "text/x-python",
   "name": "python",
   "nbconvert_exporter": "python",
   "pygments_lexer": "ipython3",
   "version": "3.8.12"
  },
  "toc": {
   "colors": {
    "hover_highlight": "#DAA520",
    "running_highlight": "#FF0000",
    "selected_highlight": "#FFD700"
   },
   "moveMenuLeft": true,
   "nav_menu": {
    "height": "12px",
    "width": "252px"
   },
   "navigate_menu": true,
   "number_sections": true,
   "sideBar": true,
   "threshold": 4,
   "toc_cell": false,
   "toc_section_display": "block",
   "toc_window_display": false,
   "widenNotebook": false
  }
 },
 "nbformat": 4,
 "nbformat_minor": 5
}
