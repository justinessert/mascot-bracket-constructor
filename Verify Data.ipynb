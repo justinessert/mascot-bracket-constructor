{
 "cells": [
  {
   "cell_type": "code",
   "execution_count": 1,
   "id": "395aaf04",
   "metadata": {
    "ExecuteTime": {
     "end_time": "2023-03-12T23:53:09.649502Z",
     "start_time": "2023-03-12T23:53:09.259894Z"
    }
   },
   "outputs": [],
   "source": [
    "%load_ext autoreload\n",
    "%autoreload 2\n",
    "\n",
    "import pandas as pd\n",
    "import sys\n",
    "import os\n",
    "\n",
    "sys.path.insert(0, \".\")\n",
    "\n",
    "from src.file_util import load_data, save_data, safe_load_yaml\n",
    "from src.const import NICKNAMES_FILE, IMGS_DIR"
   ]
  },
  {
   "cell_type": "code",
   "execution_count": 2,
   "id": "9c9b277c",
   "metadata": {
    "ExecuteTime": {
     "end_time": "2023-03-12T23:53:09.702614Z",
     "start_time": "2023-03-12T23:53:09.654124Z"
    }
   },
   "outputs": [],
   "source": [
    "regions = [\"west\", \"east\", \"south\", \"midwest\"]\n",
    "\n",
    "nicknames = safe_load_yaml(NICKNAMES_FILE)"
   ]
  },
  {
   "cell_type": "code",
   "execution_count": 3,
   "id": "69187340",
   "metadata": {
    "ExecuteTime": {
     "end_time": "2023-03-12T23:53:09.747098Z",
     "start_time": "2023-03-12T23:53:09.705447Z"
    }
   },
   "outputs": [
    {
     "name": "stdout",
     "output_type": "stream",
     "text": [
      "\n",
      "west\n",
      "\n",
      "kansas\n",
      "ucla\n",
      "gonzaga\n",
      "uconn\n",
      "saint_marys\n",
      "tcu\n",
      "northwestern\n",
      "arkansas\n",
      "illinois\n",
      "boise_state\n",
      "arizona_state\n",
      "nevada\n",
      "vcu\n",
      "iona\n",
      "grand_canyon\n",
      "unc_asheville\n",
      "howard\n",
      "\n",
      "east\n",
      "\n",
      "purdue\n",
      "marquette\n",
      "kansas_state\n",
      "tennessee\n",
      "duke\n",
      "kentucky\n",
      "michigan_state\n",
      "memphis\n",
      "florida_atlantic\n",
      "usc\n",
      "providence\n",
      "oral_roberts\n",
      "louisiana\n",
      "montana_state\n",
      "vermont\n",
      "texas_southern\n",
      "fdu\n",
      "\n",
      "south\n",
      "\n",
      "alabama\n",
      "arizona\n",
      "baylor\n",
      "virginia\n",
      "san_diego_state\n",
      "creighton\n",
      "missouri\n",
      "maryland\n",
      "west_virginia\n",
      "utah_state\n",
      "nc_state\n",
      "charleston\n",
      "furman\n",
      "ucsb\n",
      "princeton\n",
      "texas_a&m_cc\n",
      "southeast_missouri_state\n",
      "\n",
      "midwest\n",
      "\n",
      "houston\n",
      "texas\n",
      "xavier\n",
      "indiana\n",
      "miami\n",
      "iowa_state\n",
      "texas_a&m\n",
      "iowa\n",
      "auburn\n",
      "penn_state\n",
      "mississippi_state\n",
      "pittsburgh\n",
      "drake\n",
      "kent_state\n",
      "kennesaw_state\n",
      "colgate\n",
      "northern_kentucky\n"
     ]
    }
   ],
   "source": [
    "for region in regions:\n",
    "    print(f\"\\n{region}\\n\")\n",
    "    df = load_data(region, 1)\n",
    "    assert len(df) == 16\n",
    "    \n",
    "    _teams = df[\"team_name\"].values.tolist()\n",
    "    \n",
    "    teams = []\n",
    "    for _team in _teams:\n",
    "        if isinstance(_team, str):\n",
    "            teams.append(_team)\n",
    "        else:\n",
    "            for __team in _team:\n",
    "                teams.append(__team)\n",
    "    \n",
    "    for team in teams:\n",
    "        print(team)\n",
    "        assert team in nicknames\n",
    "        assert os.path.isfile(f\"{IMGS_DIR}/{team}.jpg\")"
   ]
  },
  {
   "cell_type": "code",
   "execution_count": null,
   "id": "ee271501",
   "metadata": {},
   "outputs": [],
   "source": []
  }
 ],
 "metadata": {
  "kernelspec": {
   "display_name": "Python 3 (ipykernel)",
   "language": "python",
   "name": "python3"
  },
  "language_info": {
   "codemirror_mode": {
    "name": "ipython",
    "version": 3
   },
   "file_extension": ".py",
   "mimetype": "text/x-python",
   "name": "python",
   "nbconvert_exporter": "python",
   "pygments_lexer": "ipython3",
   "version": "3.8.13"
  },
  "toc": {
   "colors": {
    "hover_highlight": "#DAA520",
    "running_highlight": "#FF0000",
    "selected_highlight": "#FFD700"
   },
   "moveMenuLeft": true,
   "nav_menu": {
    "height": "12px",
    "width": "252px"
   },
   "navigate_menu": true,
   "number_sections": true,
   "sideBar": true,
   "threshold": 4,
   "toc_cell": false,
   "toc_section_display": "block",
   "toc_window_display": false,
   "widenNotebook": false
  }
 },
 "nbformat": 4,
 "nbformat_minor": 5
}
