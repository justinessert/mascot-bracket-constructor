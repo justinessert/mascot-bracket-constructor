{
 "cells": [
  {
   "cell_type": "code",
   "execution_count": 1,
   "id": "395aaf04",
   "metadata": {
    "ExecuteTime": {
     "end_time": "2023-03-12T21:02:33.935632Z",
     "start_time": "2023-03-12T21:02:33.357240Z"
    }
   },
   "outputs": [],
   "source": [
    "%load_ext autoreload\n",
    "%autoreload 2\n",
    "\n",
    "import pandas as pd\n",
    "import sys\n",
    "import os\n",
    "\n",
    "sys.path.insert(0, \".\")\n",
    "\n",
    "from src.file_util import load_data, save_data, safe_load_yaml\n",
    "from src.const import NICKNAMES_FILE, IMGS_DIR"
   ]
  },
  {
   "cell_type": "code",
   "execution_count": 2,
   "id": "9c9b277c",
   "metadata": {
    "ExecuteTime": {
     "end_time": "2023-03-12T21:02:33.991710Z",
     "start_time": "2023-03-12T21:02:33.939530Z"
    }
   },
   "outputs": [],
   "source": [
    "regions = [\"west\", \"east\", \"south\", \"midwest\"]\n",
    "\n",
    "nicknames = safe_load_yaml(NICKNAMES_FILE)"
   ]
  },
  {
   "cell_type": "code",
   "execution_count": 3,
   "id": "69187340",
   "metadata": {
    "ExecuteTime": {
     "end_time": "2023-03-12T21:02:34.073934Z",
     "start_time": "2023-03-12T21:02:33.997132Z"
    }
   },
   "outputs": [
    {
     "name": "stdout",
     "output_type": "stream",
     "text": [
      "\n",
      "west\n",
      "\n",
      "houston\n",
      "ucla\n",
      "kansas_state\n",
      "duke\n",
      "texas_a&m\n",
      "creighton\n",
      "kentucky\n",
      "iowa\n",
      "usc\n",
      "boise_state\n",
      "mississippi_state\n",
      "pittsburgh\n",
      "drake\n",
      "louisiana\n",
      "furman\n",
      "montana_state\n",
      "texas_a&m_cc\n",
      "\n",
      "east\n",
      "\n",
      "purdue\n",
      "marquette\n",
      "baylor\n",
      "tennessee\n",
      "iowa_state\n",
      "saint_marys\n",
      "northwestern\n",
      "memphis\n",
      "west_virginia\n",
      "auburn\n",
      "nc_state\n",
      "arizona_state\n",
      "charleston\n",
      "kent_state\n",
      "kennesaw_state\n",
      "colgate\n",
      "howard\n",
      "southeast_missouri_state\n",
      "\n",
      "south\n",
      "\n",
      "alabama\n",
      "texas\n",
      "uconn\n",
      "virginia\n",
      "tcu\n",
      "miami\n",
      "missouri\n",
      "florida_atlantic\n",
      "maryland\n",
      "penn_state\n",
      "utah_state\n",
      "vcu\n",
      "yale\n",
      "vermont\n",
      "unc_asheville\n",
      "fdu\n",
      "texas_southern\n",
      "\n",
      "midwest\n",
      "\n",
      "kansas\n",
      "arizona\n",
      "gonzaga\n",
      "xavier\n",
      "indiana\n",
      "san_diego_state\n",
      "michigan_state\n",
      "arkansas\n",
      "illinois\n",
      "providence\n",
      "rutgers\n",
      "oral_roberts\n",
      "iona\n",
      "grand_canyon\n",
      "ucsb\n",
      "northern_kentucky\n"
     ]
    }
   ],
   "source": [
    "for region in regions:\n",
    "    print(f\"\\n{region}\\n\")\n",
    "    df = load_data(region, 1)\n",
    "    assert len(df) == 16\n",
    "    \n",
    "    _teams = df[\"team_name\"].values.tolist()\n",
    "    \n",
    "    teams = []\n",
    "    for _team in _teams:\n",
    "        if isinstance(_team, str):\n",
    "            teams.append(_team)\n",
    "        else:\n",
    "            for __team in _team:\n",
    "                teams.append(__team)\n",
    "    \n",
    "    for team in teams:\n",
    "        print(team)\n",
    "        assert team in nicknames\n",
    "        assert os.path.isfile(f\"{IMGS_DIR}/{team}.jpg\")"
   ]
  },
  {
   "cell_type": "code",
   "execution_count": null,
   "id": "ee271501",
   "metadata": {},
   "outputs": [],
   "source": []
  }
 ],
 "metadata": {
  "kernelspec": {
   "display_name": "Python 3 (ipykernel)",
   "language": "python",
   "name": "python3"
  },
  "language_info": {
   "codemirror_mode": {
    "name": "ipython",
    "version": 3
   },
   "file_extension": ".py",
   "mimetype": "text/x-python",
   "name": "python",
   "nbconvert_exporter": "python",
   "pygments_lexer": "ipython3",
   "version": "3.8.13"
  },
  "toc": {
   "colors": {
    "hover_highlight": "#DAA520",
    "running_highlight": "#FF0000",
    "selected_highlight": "#FFD700"
   },
   "moveMenuLeft": true,
   "nav_menu": {
    "height": "12px",
    "width": "252px"
   },
   "navigate_menu": true,
   "number_sections": true,
   "sideBar": true,
   "threshold": 4,
   "toc_cell": false,
   "toc_section_display": "block",
   "toc_window_display": false,
   "widenNotebook": false
  }
 },
 "nbformat": 4,
 "nbformat_minor": 5
}
